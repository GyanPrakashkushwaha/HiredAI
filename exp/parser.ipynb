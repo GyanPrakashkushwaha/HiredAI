{
 "cells": [
  {
   "cell_type": "code",
   "execution_count": 12,
   "metadata": {},
   "outputs": [],
   "source": [
    "from pyresparser import ResumeParser\n",
    "import os\n",
    "from pprint import pprint"
   ]
  },
  {
   "cell_type": "code",
   "execution_count": 7,
   "metadata": {},
   "outputs": [
    {
     "data": {
      "text/plain": [
       "'d:\\\\GyanPrakashKushwaha\\\\Personal Projects\\\\HiredAI'"
      ]
     },
     "execution_count": 7,
     "metadata": {},
     "output_type": "execute_result"
    }
   ],
   "source": [
    "os.chdir(\"d:\\\\GyanPrakashKushwaha\\\\Personal Projects\\\\HiredAI\")\n",
    "%pwd"
   ]
  },
  {
   "cell_type": "code",
   "execution_count": 14,
   "metadata": {},
   "outputs": [
    {
     "name": "stderr",
     "output_type": "stream",
     "text": [
      "d:\\GyanPrakashKushwaha\\Personal Projects\\HiredAI\\hire\\Lib\\site-packages\\spacy\\util.py:275: UserWarning: [W031] Model 'en_training' (0.0.0) requires spaCy v2.1 and is incompatible with the current spaCy version (2.3.9). This may lead to unexpected results or runtime errors. To resolve this, download a newer compatible model or retrain your custom model with the current spaCy version. For more details and available updates, run: python -m spacy validate\n",
      "  warnings.warn(warn_msg)\n"
     ]
    }
   ],
   "source": [
    "data = ResumeParser(resume=r'assets\\resumes\\1715680272205.pdf').get_extracted_data()"
   ]
  },
  {
   "cell_type": "code",
   "execution_count": 15,
   "metadata": {},
   "outputs": [
    {
     "name": "stdout",
     "output_type": "stream",
     "text": [
      "{'college_name': None,\n",
      " 'company_names': ['HDFC Bank Ltd',\n",
      "                   'ASSAM ROADWAYS CORPORATION LTD',\n",
      "                   'Kotak Mahindra Bank Ltd'],\n",
      " 'degree': None,\n",
      " 'designation': ['Accounts Officer in Internal Audits Department.',\n",
      "                 'Jr. Officer (ADFC Pvt ltd.)',\n",
      "                 'Deputy. Manager'],\n",
      " 'email': 'amitkjainit@gmail.com',\n",
      " 'experience': ['Accounting Exp :-',\n",
      "                'From Jan 2011 to till date',\n",
      "                'Location     :- Delhi',\n",
      "                'Working with J.S Associates as an Associates Partner since '\n",
      "                'Jan 2011 to till date. Where I’m handling',\n",
      "                'Independently more then 20 clients of various business from '\n",
      "                'beginning to finalizing the balance sheets.',\n",
      "                '(Includes all the entire GST returns and others misc returns '\n",
      "                'etc.)',\n",
      "                'Kotak Mahindra Bank Ltd :-',\n",
      "                'From July 2005 to Dec 2010',\n",
      "                'Designation:- Deputy. Manager',\n",
      "                'Location     :- Rohtak (Haryana)',\n",
      "                'Work Profile :',\n",
      "                '\\uf03f Finalisation of Inward and Outward Clearing operations',\n",
      "                '\\uf03f Cash In-charge.',\n",
      "                '\\uf03f Cross selling to walking customers.',\n",
      "                '\\uf03f Meeting with customer for maintaining relationship '\n",
      "                'with bank.',\n",
      "                '\\uf03f Funds Management As Per Requirment (Cash & Clearing)',\n",
      "                '\\uf03f Retail Banking Coustomer Dealing',\n",
      "                '\\uf03f Monitoring all the GL accounts',\n",
      "                '\\uf03f  Complete knowledge of all software used in the bank',\n",
      "                '\\uf03f Back up for Retail Superviser for all jobs when '\n",
      "                'required.',\n",
      "                '\\uf03f Handling Costomer Care Desk',\n",
      "                '\\uf03f Faced many times Audit With Satisfactory report',\n",
      "                '\\uf03f Daily reporting of sales team.',\n",
      "                '1',\n",
      "                'HDFC Bank Ltd :-',\n",
      "                'From February 2002 – July 2005',\n",
      "                'Designation:- Jr. Officer (ADFC Pvt ltd.)',\n",
      "                'Location     :- Hisar (Haryana)',\n",
      "                'Work Profile:',\n",
      "                '\\uf03f Finalisation of Inward and Outward Clearing operations',\n",
      "                '\\uf03f Cash Management Services',\n",
      "                '\\uf03f Depository Services',\n",
      "                '\\uf03f Funds Management As Per Requirment(Clearing)',\n",
      "                '\\uf03f Monitoring all the GL accounts',\n",
      "                '\\uf03f Complete knowledge of all software used in bank',\n",
      "                '\\uf03f Faced 6-7 times Audit With Satisfactory report',\n",
      "                'DELHI ASSAM ROADWAYS CORPORATION LTD :-',\n",
      "                'From April 2000 – February 2002',\n",
      "                'Designation:- Accounts Officer in Internal Audits Department.',\n",
      "                'Location     :- Hisar (Haryana)',\n",
      "                'Work profile :',\n",
      "                'Incharge of Audit dept for 35 branches',\n",
      "                '\\uf0a7',\n",
      "                '\\uf0a7  Costing for various tendors in which our company '\n",
      "                'pariticipated.'],\n",
      " 'mobile_number': '0971139273',\n",
      " 'name': 'Permanent Address',\n",
      " 'no_of_pages': 2,\n",
      " 'skills': ['Word',\n",
      "            'Analytical',\n",
      "            'Operations',\n",
      "            'R',\n",
      "            'Banking',\n",
      "            'Sh',\n",
      "            'Excel',\n",
      "            'English',\n",
      "            'Retail',\n",
      "            'Audit',\n",
      "            'Accounting',\n",
      "            'Finance',\n",
      "            'Reporting',\n",
      "            'Sales',\n",
      "            'C'],\n",
      " 'total_experience': 10.67}\n"
     ]
    }
   ],
   "source": [
    "pprint(data)"
   ]
  },
  {
   "cell_type": "code",
   "execution_count": null,
   "metadata": {},
   "outputs": [],
   "source": []
  }
 ],
 "metadata": {
  "kernelspec": {
   "display_name": "hire",
   "language": "python",
   "name": "python3"
  },
  "language_info": {
   "codemirror_mode": {
    "name": "ipython",
    "version": 3
   },
   "file_extension": ".py",
   "mimetype": "text/x-python",
   "name": "python",
   "nbconvert_exporter": "python",
   "pygments_lexer": "ipython3",
   "version": "3.11.4"
  }
 },
 "nbformat": 4,
 "nbformat_minor": 2
}
