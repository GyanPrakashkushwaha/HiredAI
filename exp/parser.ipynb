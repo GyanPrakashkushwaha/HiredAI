{
 "cells": [
  {
   "cell_type": "code",
   "execution_count": 5,
   "metadata": {},
   "outputs": [],
   "source": [
    "from pyresparser import ResumeParser\n",
    "import os\n",
    "from pprint import pprint"
   ]
  },
  {
   "cell_type": "code",
   "execution_count": 6,
   "metadata": {},
   "outputs": [
    {
     "data": {
      "text/plain": [
       "'d:\\\\GyanPrakashKushwaha\\\\Personal Projects\\\\HiredAI'"
      ]
     },
     "execution_count": 6,
     "metadata": {},
     "output_type": "execute_result"
    }
   ],
   "source": [
    "os.chdir(\"d:\\\\GyanPrakashKushwaha\\\\Personal Projects\\\\HiredAI\")\n",
    "%pwd"
   ]
  },
  {
   "cell_type": "code",
   "execution_count": 13,
   "metadata": {},
   "outputs": [
    {
     "name": "stderr",
     "output_type": "stream",
     "text": [
      "d:\\GyanPrakashKushwaha\\Personal Projects\\HiredAI\\hire\\Lib\\site-packages\\spacy\\util.py:275: UserWarning: [W031] Model 'en_training' (0.0.0) requires spaCy v2.1 and is incompatible with the current spaCy version (2.3.9). This may lead to unexpected results or runtime errors. To resolve this, download a newer compatible model or retrain your custom model with the current spaCy version. For more details and available updates, run: python -m spacy validate\n",
      "  warnings.warn(warn_msg)\n"
     ]
    }
   ],
   "source": [
    "data = ResumeParser(resume=r'assets\\resumes\\2. Entry Level Data Scientist Resume.pdf').get_extracted_data()"
   ]
  },
  {
   "cell_type": "code",
   "execution_count": 14,
   "metadata": {},
   "outputs": [
    {
     "data": {
      "text/plain": [
       "{'name': 'FIRST LAST',\n",
       " 'email': 'first.last@resumeworded.com',\n",
       " 'mobile_number': '1234567',\n",
       " 'skills': ['Algorithms',\n",
       "  'Psychology',\n",
       "  'Architecture',\n",
       "  'System',\n",
       "  'Computer science',\n",
       "  'Recruitment',\n",
       "  'Startup',\n",
       "  'Python',\n",
       "  'Mathematics',\n",
       "  'Marketing',\n",
       "  'International',\n",
       "  'C++',\n",
       "  'Reporting',\n",
       "  'Php',\n",
       "  'Technical',\n",
       "  'Operating systems',\n",
       "  'Networking',\n",
       "  'Economics',\n",
       "  'Css',\n",
       "  'Data analysis',\n",
       "  'Finance',\n",
       "  'Engineering',\n",
       "  'German',\n",
       "  'Tableau',\n",
       "  'Sql',\n",
       "  'Training',\n",
       "  'Unix',\n",
       "  'Matlab',\n",
       "  'Engagement',\n",
       "  'French',\n",
       "  'P',\n",
       "  'Kpis',\n",
       "  'Html',\n",
       "  'Javascript',\n",
       "  'Software engineering',\n",
       "  'Analysis',\n",
       "  'Design',\n",
       "  'English'],\n",
       " 'college_name': None,\n",
       " 'degree': ['RESUME WORDED UNIVERSITY',\n",
       "  'Major in Computer Science',\n",
       "  'Bachelor of Engineering'],\n",
       " 'designation': ['Data Analyst Intern'],\n",
       " 'experience': ['RESUME WORDED & CO. (8 employee venture-backed recruitment startup)',\n",
       "  'Data Science Intern',\n",
       "  '● Built Tableau dashboard to visualize core business KPIs (e.g. Monthly Recurring Revenue), saving 10 hours per week of',\n",
       "  'New York, NY',\n",
       "  'Jun 2017 – Sep 2017',\n",
       "  'manual reporting work',\n",
       "  '● Aggregated unstructured data from 20+ sources to build the foundation of a new product; led to $100,000 in new revenue',\n",
       "  '● Designed the data pipeline architecture in team of 5 for a new product that scaled from 0 to 100,000 daily active users',\n",
       "  'New York, NY',\n",
       "  'EXCITING COMPANY',\n",
       "  'Data Analyst Intern',\n",
       "  'Jun 2016 – Sep 2016',\n",
       "  '● Led the transition to a paperless practice by implementing an electronic booking system and a faster, safer and more accurate',\n",
       "  'business system; reduced cost of labor by 30% and office overhead by 10%',\n",
       "  '● Analyzed data from 25000 monthly active users and used outputs to guide marketing and product strategies; increased',\n",
       "  'average app engagement time by 2x, 30% decrease in drop off rate, and 3x shares on social media'],\n",
       " 'company_names': None,\n",
       " 'no_of_pages': 1,\n",
       " 'total_experience': 0.5}"
      ]
     },
     "execution_count": 14,
     "metadata": {},
     "output_type": "execute_result"
    }
   ],
   "source": [
    "data"
   ]
  },
  {
   "cell_type": "code",
   "execution_count": 15,
   "metadata": {},
   "outputs": [
    {
     "name": "stdout",
     "output_type": "stream",
     "text": [
      "Name: FIRST LAST\n",
      "Email: first.last@resumeworded.com\n",
      "Mobile Number: 1234567\n",
      "Skills: ['Algorithms', 'Psychology', 'Architecture', 'System', 'Computer science', 'Recruitment', 'Startup', 'Python', 'Mathematics', 'Marketing', 'International', 'C++', 'Reporting', 'Php', 'Technical', 'Operating systems', 'Networking', 'Economics', 'Css', 'Data analysis', 'Finance', 'Engineering', 'German', 'Tableau', 'Sql', 'Training', 'Unix', 'Matlab', 'Engagement', 'French', 'P', 'Kpis', 'Html', 'Javascript', 'Software engineering', 'Analysis', 'Design', 'English']\n",
      "College Name: None\n",
      "Degree: ['RESUME WORDED UNIVERSITY', 'Major in Computer Science', 'Bachelor of Engineering']\n",
      "Designation: ['Data Analyst Intern']\n",
      "Company Names: None\n",
      "No Of Pages: 1\n",
      "Total Experience: 0.5\n"
     ]
    }
   ],
   "source": [
    "print(\"Name:\", data[\"name\"])\n",
    "print(\"Email:\", data[\"email\"])\n",
    "print(\"Mobile Number:\", data[\"mobile_number\"])\n",
    "print(\"Skills:\", data[\"skills\"])\n",
    "print(\"College Name:\", data[\"college_name\"])\n",
    "print(\"Degree:\", data[\"degree\"])\n",
    "print(\"Designation:\", data[\"designation\"])\n",
    "print(\"Company Names:\", data[\"company_names\"])\n",
    "print(\"No Of Pages:\", data[\"no_of_pages\"])\n",
    "print(\"Total Experience:\", data[\"total_experience\"])"
   ]
  }
 ],
 "metadata": {
  "kernelspec": {
   "display_name": "hire",
   "language": "python",
   "name": "python3"
  },
  "language_info": {
   "codemirror_mode": {
    "name": "ipython",
    "version": 3
   },
   "file_extension": ".py",
   "mimetype": "text/x-python",
   "name": "python",
   "nbconvert_exporter": "python",
   "pygments_lexer": "ipython3",
   "version": "3.11.4"
  }
 },
 "nbformat": 4,
 "nbformat_minor": 2
}
