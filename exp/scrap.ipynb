{
 "cells": [
  {
   "cell_type": "code",
   "execution_count": 20,
   "metadata": {},
   "outputs": [],
   "source": [
    "import requests\n",
    "from bs4 import BeautifulSoup as bs\n",
    "import csv\n",
    "from datetime import datetime"
   ]
  },
  {
   "cell_type": "code",
   "execution_count": 3,
   "metadata": {},
   "outputs": [
    {
     "name": "stdout",
     "output_type": "stream",
     "text": [
      "<module 'requests' from 'd:\\\\GyanPrakashKushwaha\\\\Personal Projects\\\\HiredAI\\\\hire\\\\Lib\\\\site-packages\\\\requests\\\\__init__.py'>\n",
      "<class 'bs4.BeautifulSoup'>\n"
     ]
    }
   ],
   "source": [
    "print(requests)\n",
    "print(BeautifulSoup)"
   ]
  },
  {
   "cell_type": "code",
   "execution_count": 5,
   "metadata": {},
   "outputs": [],
   "source": [
    "def oneJob(pages):\n",
    "    URL = f'https://www.naukri.com/jobs-in-all-{pages}'\n",
    "    request = requests.get(URL)\n",
    "    soup = bs(request.text,'html.parser')\n",
    "    soup = soup.find('div',class_ = 'cust-job-tuple layout-wrapper lay-2 sjw__tuple')\n",
    "\n",
    "    return soup , URL"
   ]
  },
  {
   "cell_type": "code",
   "execution_count": 7,
   "metadata": {},
   "outputs": [],
   "source": [
    "URL = f'https://www.naukri.com/jobs-in-all'\n",
    "request = requests.get(URL)"
   ]
  },
  {
   "cell_type": "code",
   "execution_count": 40,
   "metadata": {},
   "outputs": [
    {
     "data": {
      "text/plain": [
       "<Response [200]>"
      ]
     },
     "execution_count": 40,
     "metadata": {},
     "output_type": "execute_result"
    }
   ],
   "source": [
    "urlnew = 'https://www.linkedin.com/jobs/collections/recommended/?currentJobId=3834668623&discover=recommended&discoveryOrigin=JOBS_HOME_JYMBII'\n",
    "response = requests.get(urlnew)\n",
    "response"
   ]
  },
  {
   "cell_type": "code",
   "execution_count": null,
   "metadata": {},
   "outputs": [],
   "source": []
  },
  {
   "cell_type": "code",
   "execution_count": 41,
   "metadata": {},
   "outputs": [],
   "source": [
    "bs(response.text,'html.parser').find('div',class_='cstyles_job-listing-container__OCfZC')"
   ]
  },
  {
   "cell_type": "code",
   "execution_count": 44,
   "metadata": {},
   "outputs": [
    {
     "name": "stdout",
     "output_type": "stream",
     "text": [
      "<Response [200]>\n"
     ]
    }
   ],
   "source": [
    "url = 'https://www.linkedin.com/jobs-guest/jobs/api/seeMoreJobPostings/search?keywords=Product%20Management&location=San%20Francisco%20Bay%20Area&geoId=90000084&trk=public_jobs_jobs-search-bar_search-submit&position=1&pageNum=0&start=0'\n",
    "response = requests.get(url)\n",
    "print(response)"
   ]
  },
  {
   "cell_type": "code",
   "execution_count": 46,
   "metadata": {},
   "outputs": [
    {
     "name": "stdout",
     "output_type": "stream",
     "text": [
      "\n",
      "            \n",
      "        Director, Product Management, Engagement\n",
      "      \n",
      "          \n"
     ]
    }
   ],
   "source": [
    "soup = bs(response.content,'html.parser')\n",
    "job_title = soup.find('h3', class_='base-search-card__title').text\n",
    "print(job_title)"
   ]
  },
  {
   "cell_type": "code",
   "execution_count": 51,
   "metadata": {},
   "outputs": [],
   "source": [
    "def linkedin_scraper(webpage, page_number):\n",
    "    next_page = webpage + str(page_number)\n",
    "    print(str(next_page))\n",
    "    response = requests.get(str(next_page))\n",
    "    soup = bs(response.content,'html.parser')\n",
    "    print(soup.find('h3', class_='base-search-card__title'))\n",
    "    return soup"
   ]
  },
  {
   "cell_type": "code",
   "execution_count": 2,
   "metadata": {},
   "outputs": [
    {
     "data": {
      "text/plain": [
       "0"
      ]
     },
     "execution_count": 2,
     "metadata": {},
     "output_type": "execute_result"
    }
   ],
   "source": [
    "2//10"
   ]
  },
  {
   "cell_type": "code",
   "execution_count": 5,
   "metadata": {},
   "outputs": [
    {
     "data": {
      "text/plain": [
       "[4]"
      ]
     },
     "execution_count": 5,
     "metadata": {},
     "output_type": "execute_result"
    }
   ],
   "source": [
    "list(map(int,str(4)))"
   ]
  },
  {
   "cell_type": "code",
   "execution_count": 9,
   "metadata": {},
   "outputs": [
    {
     "name": "stdout",
     "output_type": "stream",
     "text": [
      "[2, 0]\n"
     ]
    },
    {
     "data": {
      "text/plain": [
       "[4, 0]"
      ]
     },
     "execution_count": 9,
     "metadata": {},
     "output_type": "execute_result"
    }
   ],
   "source": [
    "number = 20\n",
    "l1 = list(map(int,str(number)))\n",
    "print(l1)\n",
    "list(map(lambda x: x**len(str(number)),l1))"
   ]
  },
  {
   "cell_type": "code",
   "execution_count": 12,
   "metadata": {},
   "outputs": [
    {
     "name": "stdout",
     "output_type": "stream",
     "text": [
      "[('A', 1), ('B', 1), ('C', 1), ('D', 0), ('E', 1), ('F', 1)]\n",
      "ABCEF"
     ]
    }
   ],
   "source": [
    "def compress(data, flag): \n",
    "    print(list(zip(data, flag)))\n",
    "    return (i for i, j in filter (lambda x: x[1], zip(data, flag)))\n",
    "\n",
    "data = 'ABCDEF'\n",
    "flag = [1, 1, 1, 0, 1, 1]\n",
    "for i in compress (data, flag):\n",
    "    print(i, end='')#there is no space between the quotes"
   ]
  },
  {
   "cell_type": "code",
   "execution_count": 9,
   "metadata": {},
   "outputs": [
    {
     "name": "stdout",
     "output_type": "stream",
     "text": [
      "{1}\n",
      "{1, 2}\n",
      "(1, 2)None 1\n"
     ]
    }
   ],
   "source": [
    "s = set()\n",
    "s.add(1)\n",
    "print(s)\n",
    "s.add(2)\n",
    "print(s)\n",
    "print(print(tuple(s),end=''),tuple(s)[0])"
   ]
  },
  {
   "cell_type": "code",
   "execution_count": 7,
   "metadata": {},
   "outputs": [
    {
     "name": "stdout",
     "output_type": "stream",
     "text": [
      "prime\n"
     ]
    }
   ],
   "source": [
    "def prime(num):\n",
    "    for i in range(2, num):\n",
    "        if num % i == 0:\n",
    "            return 'not prime'\n",
    "    \n",
    "    return 'prime'\n",
    "\n",
    "print(prime(2))"
   ]
  },
  {
   "cell_type": "code",
   "execution_count": 2,
   "metadata": {},
   "outputs": [
    {
     "name": "stdout",
     "output_type": "stream",
     "text": [
      "^C\n"
     ]
    }
   ],
   "source": [
    "!pip install numpy matplotlib scipy"
   ]
  },
  {
   "cell_type": "code",
   "execution_count": 1,
   "metadata": {},
   "outputs": [
    {
     "data": {
      "image/png": "[encoded data removed]",
      "text/plain": [
       "<Figure size 640x480 with 1 Axes>"
      ]
     },
     "metadata": {},
     "output_type": "display_data"
    }
   ],
   "source": [
    "import numpy as np\n",
    "import matplotlib.pyplot as plt\n",
    "from scipy.stats import binom\n",
    "\n",
    "# Parameters\n",
    "n = 10\n",
    "p = 0.5\n",
    "\n",
    "# Values of k from 0 to n\n",
    "k_values = np.arange(0, n+1)\n",
    "\n",
    "# Calculate PMF for each k\n",
    "pmf_values = binom.pmf(k_values, n, p)\n",
    "\n",
    "# Plot PMF\n",
    "plt.bar(k_values, pmf_values, color='skyblue')\n",
    "plt.title('Probability Mass Function (PMF) for Binomial(10, 0.5)')\n",
    "plt.xlabel('Number of Successes (k)')\n",
    "plt.ylabel('Probability')\n",
    "plt.xticks(k_values)\n",
    "plt.grid(True)\n",
    "plt.show()"
   ]
  },
  {
   "cell_type": "code",
   "execution_count": 5,
   "metadata": {},
   "outputs": [
    {
     "data": {
      "image/png": "[encoded data removed]",
      "text/plain": [
       "<Figure size 1200x300 with 1 Axes>"
      ]
     },
     "metadata": {},
     "output_type": "display_data"
    }
   ],
   "source": [
    "import numpy as np\n",
    "import matplotlib.pyplot as plt\n",
    "from scipy.stats import binom\n",
    "\n",
    "# Parameters\n",
    "n = 10\n",
    "p = 0.5\n",
    "\n",
    "# Values of k from 0 to n\n",
    "k_values = np.arange(0, n+1)\n",
    "\n",
    "# Calculate PMF for each k\n",
    "pmf_values = binom.pmf(k_values, n, p)\n",
    "\n",
    "# Plot PMF using stem plot\n",
    "plt.figure(figsize=(12,3))\n",
    "plt.stem(k_values, pmf_values, linefmt='b-', markerfmt='bo', basefmt=' ')\n",
    "plt.title('Probability Mass Function (PMF) for Binomial(10, 0.5)')\n",
    "plt.xlabel('Number of Successes (k)')\n",
    "plt.ylabel('Probability')\n",
    "plt.xticks(k_values)\n",
    "plt.grid(True)\n",
    "plt.show()"
   ]
  }
 ],
 "metadata": {
  "kernelspec": {
   "display_name": "hire",
   "language": "python",
   "name": "python3"
  },
  "language_info": {
   "codemirror_mode": {
    "name": "ipython",
    "version": 3
   },
   "file_extension": ".py",
   "mimetype": "text/x-python",
   "name": "python",
   "nbconvert_exporter": "python",
   "pygments_lexer": "ipython3",
   "version": "3.11.4"
  }
 },
 "nbformat": 4,
 "nbformat_minor": 2
}
