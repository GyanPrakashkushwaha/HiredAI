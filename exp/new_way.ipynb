{
 "cells": [
  {
   "cell_type": "code",
   "execution_count": 22,
   "metadata": {},
   "outputs": [],
   "source": [
    "import PyPDF2 as pdf\n",
    "import os"
   ]
  },
  {
   "cell_type": "code",
   "execution_count": 23,
   "metadata": {},
   "outputs": [],
   "source": [
    "%pwd\n",
    "os.chdir(\"d:\\\\GyanPrakashKushwaha\\\\Personal Projects\\\\HiredAI\")"
   ]
  },
  {
   "cell_type": "code",
   "execution_count": 24,
   "metadata": {},
   "outputs": [],
   "source": [
    "reader = pdf.PdfReader(r\"assets\\resumes\\1715680272205.pdf\")"
   ]
  },
  {
   "cell_type": "code",
   "execution_count": 25,
   "metadata": {},
   "outputs": [],
   "source": [
    "def input_pdf_text(uploaded_file):\n",
    "    reader=pdf.PdfReader(uploaded_file)\n",
    "    text=\"\"\n",
    "    for page in range(len(reader.pages)):\n",
    "        page=reader.pages[page]\n",
    "        text+=str(page.extract_text())\n",
    "    return text"
   ]
  },
  {
   "cell_type": "code",
   "execution_count": 34,
   "metadata": {},
   "outputs": [
    {
     "name": "stdout",
     "output_type": "stream",
     "text": [
      " 1 Amit Jain  \n",
      " \n",
      "Permanent Address –: 252-253, 2nd floor, Pocket -A3, Secor -28,Rohini, Delhi -42      \n",
      "Phone : 09711392738                      \n",
      "DOB: 10th May,1979                 Mail-id :- amitkjainit@gmail.com  \n",
      "EDUCATIONAL DATA  \n",
      " B.Com: C R M Jat College, Hisar in 2000 . \n",
      " MBA from Bundelkhand University, Jhansi 2003  \n",
      "STRENGTHS  \n",
      " More then 23 Year’s Experiance of Banking Operation & Finance.  \n",
      " Comprehansive knowledge of Banking Operations, Analytical abilities, Strong execution of plans, \n",
      "Result oriented , Quick learner and solut ion focused approach.   \n",
      " \n",
      "WORK EXPERIENCE  \n",
      "Accounting Exp  :- \n",
      " From Jan 2011  to till date  \n",
      "Location     : - Delhi  \n",
      "Working with J.S Associates as an Associates Partner since Jan 2011 to till date. Where I’m handling  \n",
      "Independently more then 20 clients of various b usiness from beginning to finalizing the balance sheets.  \n",
      "(Includes all the entire GST returns and others misc returns etc.)  \n",
      "Kotak Mahindra Bank Ltd  :- \n",
      " From July 2005 to Dec 2010  \n",
      "Designation: - Deputy . Manager  \n",
      "Location     : - Rohtak (Haryana)  \n",
      "Work Profile  : \n",
      " Finalisation of Inward and Outward Clearing operations  \n",
      " Cash In -charge.  \n",
      " Cross selling to walking customers.  \n",
      " Meeting with customer for maintaining relationship with bank.  \n",
      " Funds Management As Per Requirment (Cash & Clearing)  \n",
      " Retail Banking Coustomer Dealing  \n",
      " Monitoring all the GL accounts  \n",
      " Complete knowledge of all software used in the bank  \n",
      " Back up for Retail Superviser  for all jobs when required.  \n",
      " Handling Costomer Care Desk  \n",
      " Faced many  times Audit With Satisfactory report  \n",
      " Daily reporting of sales team.  \n",
      " \n",
      " \n",
      "  2 HDFC Bank Ltd  :-  \n",
      "From February 2002 – July 2005  \n",
      "Designation: - Jr. Officer  (ADFC Pvt ltd.)  \n",
      "Location      :- Hisar (Haryana)  \n",
      "Work Profile:  \n",
      " Finalisation of Inward and Outward Clearing operations  \n",
      " Cash Management Services  \n",
      " Depository Services  \n",
      " Funds Management As Pe r Requirment(Clearing)  \n",
      " Monitoring all the GL accounts  \n",
      " Complete knowledge of all software used in bank  \n",
      " Faced 6 -7 times Audit With Satisfactory report  \n",
      " \n",
      "DELHI ASSAM ROADWAYS CORPORATION LTD  :- \n",
      "From April 2000 – February 2002  \n",
      " Designation: - Accounts Officer in  Internal Audits Department . \n",
      "Location     : - Hisar (Haryana)  \n",
      "Work profile  :  \n",
      " Incharge of Audit dept for 35 branches  \n",
      " Costing for various tendors in which our company pariticipated.  \n",
      " \n",
      "INTERESTS  \n",
      "Surfing the n et, Listening Music, Cricket, B adminton  \n",
      " \n",
      "COMPUTER AW ARENESS  \n",
      "Fully acquainted with Windows -98,MS -Office (Word, Excel & Power Point),Tally ,  Busy  (accounting \n",
      "software) & Internet and E -mail.  \n",
      " \n",
      "LANGUAGES KNOWN  \n",
      "English, Hindi & Punjabi  \n",
      " \n",
      "PERSONAL DETAIL  \n",
      "Father's Name  :Late Sh.P.K.Jain   \n",
      "Sex   :Male  \n",
      "Marital Statu s :Married  \n",
      "Nationality   :Indian  \n",
      "REFERENCES  \n",
      "Can be given when required.  \n",
      " \n",
      " \n",
      " \n",
      " \n",
      "          (AMIT JAIN)  \n"
     ]
    }
   ],
   "source": [
    "print(input_pdf_text(r\"assets\\resumes\\1715680272205.pdf\"))"
   ]
  },
  {
   "cell_type": "code",
   "execution_count": 33,
   "metadata": {},
   "outputs": [
    {
     "name": "stdout",
     "output_type": "stream",
     "text": [
      " 2 HDFC Bank Ltd  :-  \n",
      "From February 2002 – July 2005  \n",
      "Designation: - Jr. Officer  (ADFC Pvt ltd.)  \n",
      "Location      :- Hisar (Haryana)  \n",
      "Work Profile:  \n",
      " Finalisation of Inward and Outward Clearing operations  \n",
      " Cash Management Services  \n",
      " Depository Services  \n",
      " Funds Management As Pe r Requirment(Clearing)  \n",
      " Monitoring all the GL accounts  \n",
      " Complete knowledge of all software used in bank  \n",
      " Faced 6 -7 times Audit With Satisfactory report  \n",
      " \n",
      "DELHI ASSAM ROADWAYS CORPORATION LTD  :- \n",
      "From April 2000 – February 2002  \n",
      " Designation: - Accounts Officer in  Internal Audits Department . \n",
      "Location     : - Hisar (Haryana)  \n",
      "Work profile  :  \n",
      " Incharge of Audit dept for 35 branches  \n",
      " Costing for various tendors in which our company pariticipated.  \n",
      " \n",
      "INTERESTS  \n",
      "Surfing the n et, Listening Music, Cricket, B adminton  \n",
      " \n",
      "COMPUTER AW ARENESS  \n",
      "Fully acquainted with Windows -98,MS -Office (Word, Excel & Power Point),Tally ,  Busy  (accounting \n",
      "software) & Internet and E -mail.  \n",
      " \n",
      "LANGUAGES KNOWN  \n",
      "English, Hindi & Punjabi  \n",
      " \n",
      "PERSONAL DETAIL  \n",
      "Father's Name  :Late Sh.P.K.Jain   \n",
      "Sex   :Male  \n",
      "Marital Statu s :Married  \n",
      "Nationality   :Indian  \n",
      "REFERENCES  \n",
      "Can be given when required.  \n",
      " \n",
      " \n",
      " \n",
      " \n",
      "          (AMIT JAIN)  \n"
     ]
    }
   ],
   "source": [
    "print(reader.pages[1].extract_text())"
   ]
  },
  {
   "cell_type": "code",
   "execution_count": 28,
   "metadata": {},
   "outputs": [
    {
     "name": "stdout",
     "output_type": "stream",
     "text": [
      "0\n",
      "1\n"
     ]
    }
   ],
   "source": [
    "for pages in range(len(reader.pages)):\n",
    "    print(pages)"
   ]
  }
 ],
 "metadata": {
  "kernelspec": {
   "display_name": "Python 3",
   "language": "python",
   "name": "python3"
  },
  "language_info": {
   "codemirror_mode": {
    "name": "ipython",
    "version": 3
   },
   "file_extension": ".py",
   "mimetype": "text/x-python",
   "name": "python",
   "nbconvert_exporter": "python",
   "pygments_lexer": "ipython3",
   "version": "3.11.4"
  }
 },
 "nbformat": 4,
 "nbformat_minor": 2
}
